{
  "nbformat": 4,
  "nbformat_minor": 0,
  "metadata": {
    "colab": {
      "provenance": []
    },
    "kernelspec": {
      "name": "python3",
      "display_name": "Python 3"
    },
    "language_info": {
      "name": "python"
    }
  },
  "cells": [
    {
      "cell_type": "code",
      "execution_count": null,
      "metadata": {
        "id": "PQIKs7tLKe5z",
        "colab": {
          "base_uri": "https://localhost:8080/"
        },
        "outputId": "57909af9-07c4-4fbb-fdfe-9762cedbaf0b"
      },
      "outputs": [
        {
          "output_type": "stream",
          "name": "stdout",
          "text": [
            "Collecting wget\n",
            "  Downloading wget-3.2.zip (10 kB)\n",
            "  Preparing metadata (setup.py) ... \u001b[?25l\u001b[?25hdone\n",
            "Building wheels for collected packages: wget\n",
            "  Building wheel for wget (setup.py) ... \u001b[?25l\u001b[?25hdone\n",
            "  Created wheel for wget: filename=wget-3.2-py3-none-any.whl size=9656 sha256=13a877ef40bb94f97d1dd6678ca067911faafeb839a7161d4928507054d0e1d1\n",
            "  Stored in directory: /root/.cache/pip/wheels/8b/f1/7f/5c94f0a7a505ca1c81cd1d9208ae2064675d97582078e6c769\n",
            "Successfully built wget\n",
            "Installing collected packages: wget\n",
            "Successfully installed wget-3.2\n"
          ]
        }
      ],
      "source": [
        "!pip install wget"
      ]
    },
    {
      "cell_type": "code",
      "execution_count": 1,
      "metadata": {
        "id": "jX6nIwVKb9OX"
      },
      "outputs": [],
      "source": [
        "!mkdir -p /resources/data"
      ]
    },
    {
      "cell_type": "code",
      "source": [
        "with open('/resources/data/Biodata.txt', 'w') as writefile:\n",
        "    writefile.write(\"Nama   : Galang Ahmad Ghifari\\n\")\n",
        "    writefile.write(\"Prodi  : S1 Teknologi Informasi\\n\")\n",
        "    writefile.write(\"Npm    : 2440506068\\n\")\n",
        "    writefile.write(\"Alamat : Banjarnegara \\n\")\n",
        "    writefile.write(\"hobi   : Olahraga\\n\")\n",
        "    writefile.write(\"email  : ghifariahmad212@gmail.com\\n\")"
      ],
      "metadata": {
        "id": "DcbBZkV4tJS4"
      },
      "execution_count": 3,
      "outputs": []
    },
    {
      "cell_type": "code",
      "source": [
        "with open(\"/resources/data/Biodata.txt\",\"r\") as me:\n",
        "  c = me.readlines()\n",
        "  print(c[0])\n",
        "  print(c[1])\n",
        "  print(c[5])"
      ],
      "metadata": {
        "colab": {
          "base_uri": "https://localhost:8080/"
        },
        "id": "-FjbKaDUtYeC",
        "outputId": "77d966ac-ccdb-4365-a85c-995c487a9f2f"
      },
      "execution_count": 11,
      "outputs": [
        {
          "output_type": "stream",
          "name": "stdout",
          "text": [
            "Nama   : Galang Ahmad Ghifari\n",
            "\n",
            "Prodi  : S1 Teknologi Informasi\n",
            "\n",
            "email  : ghifariahmad212@gmail.com\n",
            "\n"
          ]
        }
      ]
    },
    {
      "cell_type": "code",
      "source": [
        "with open(\"/resources/data/Biodata2.txt\",\"w\") as me:\n",
        "   me.write(c[0])\n",
        "   me.write(c[2])\n",
        "   me.write(c[1])\n",
        "   me.write(c[3])"
      ],
      "metadata": {
        "id": "dOuGL99RtpvG"
      },
      "execution_count": 15,
      "outputs": []
    },
    {
      "cell_type": "code",
      "source": [
        "with open(\"/resources/data/Biodata2.txt\",\"r\") as me:\n",
        "  c = me.readlines()\n",
        "  print(c[0])\n",
        "  print(c[2])\n",
        "  print(c[1])\n",
        "  print(c[3])"
      ],
      "metadata": {
        "colab": {
          "base_uri": "https://localhost:8080/"
        },
        "id": "4LtzQMfuujI-",
        "outputId": "7272980d-00c7-4d85-fdbc-74765925323b"
      },
      "execution_count": 14,
      "outputs": [
        {
          "output_type": "stream",
          "name": "stdout",
          "text": [
            "Nama   : Galang Ahmad Ghifari\n",
            "\n",
            "Prodi  : S1 Teknologi Informasi\n",
            "\n",
            "Npm    : 2440506068\n",
            "\n",
            "Alamat : Banjarnegara \n",
            "\n"
          ]
        }
      ]
    },
    {
      "cell_type": "code",
      "source": [
        "print(\"Selamat datang di Toko Maju Jaya\")\n",
        "print(\"Senin, 4 September 2023 Pukul 13.05\")\n",
        "print(\" \")\n",
        "\n",
        "print(\"DAFTAR BELANJA:\")\n",
        "item1 = \"Sabun      \"\n",
        "item2 = \"Shampo     \"\n",
        "item3 = \"Mie instant\"\n",
        "item4 = \"Detergen   \"\n",
        "harga1 = 10000\n",
        "harga2 = 15000\n",
        "harga3 = 5000\n",
        "harga4 = 17500\n",
        "\n",
        "total = harga1 + harga2 + harga3 + harga4\n",
        "\n",
        "print(item1, \"= Rp\", harga1)\n",
        "print(item2, \"= Rp\", harga2)\n",
        "print(item3, \"= Rp\", harga3)\n",
        "print(item4, \"= Rp\", harga4)\n",
        "\n",
        "print(\" \")\n",
        "\n",
        "print(\"Total       = Rp\", total)\n",
        "\n",
        "with open('/resources/data/Kuitansi.txt', 'w') as writefile:\n",
        "    writefile.write(\"Selamat Datang di Toko Maju Jaya\\n\")\n",
        "    writefile.write(\"\\n\")\n",
        "    writefile.write(\"Kuitansi - 4 September 2023\\n\")\n",
        "    writefile.write(\"\\n\")\n",
        "    writefile.write(item1 + \"   = Rp \" + str(harga1) + \"\\n\")\n",
        "    writefile.write(item2 + \"   = Rp \" + str(harga2) + \"\\n\")\n",
        "    writefile.write(item3 + \"   = Rp \" + str(harga3) + \"\\n\")\n",
        "    writefile.write(item4 + \"   = Rp \" + str(harga4) + \"\\n\")\n",
        "    writefile.write(\"\\n\")\n",
        "    writefile.write(\"Total Belanja = Rp \" + str(total) + \"\\n\")\n"
      ],
      "metadata": {
        "colab": {
          "base_uri": "https://localhost:8080/"
        },
        "id": "-8Igc7L-xVej",
        "outputId": "16edc8ec-d47c-4e2c-ffac-528b00de6666"
      },
      "execution_count": 2,
      "outputs": [
        {
          "output_type": "stream",
          "name": "stdout",
          "text": [
            "Selamat datang di Toko Maju Jaya\n",
            "Senin, 4 September 2023 Pukul 13.05\n",
            " \n",
            "DAFTAR BELANJA:\n",
            "Sabun       = Rp 10000\n",
            "Shampo      = Rp 15000\n",
            "Mie instant = Rp 5000\n",
            "Detergen    = Rp 17500\n",
            " \n",
            "Total       = Rp 47500\n"
          ]
        }
      ]
    }
  ]
}